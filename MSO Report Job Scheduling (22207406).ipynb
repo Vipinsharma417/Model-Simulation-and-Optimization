{
 "cells": [
  {
   "cell_type": "code",
   "execution_count": 1,
   "id": "270764e9",
   "metadata": {},
   "outputs": [],
   "source": [
    "N_JOBS = 6\n",
    "N_MACHINES = 4"
   ]
  },
  {
   "cell_type": "code",
   "execution_count": 2,
   "id": "39dc02f4",
   "metadata": {},
   "outputs": [],
   "source": [
    "import random\n",
    "\n",
    "def generateData(seed=7406):\n",
    "    PROC = [ [ 0 for m in range(N_MACHINES) ] for j in range(N_JOBS) ]\n",
    "    random.seed(seed)\n",
    "    for j in range(N_JOBS):\n",
    "        for m in range(N_MACHINES):\n",
    "            PROC[j][m] = random.randint(1,9)\n",
    "    return PROC"
   ]
  },
  {
   "cell_type": "code",
   "execution_count": 3,
   "id": "be5ac469",
   "metadata": {},
   "outputs": [],
   "source": [
    "PROC = generateData(7406)"
   ]
  },
  {
   "cell_type": "code",
   "execution_count": 4,
   "id": "56410da4",
   "metadata": {},
   "outputs": [
    {
     "data": {
      "text/plain": [
       "[[5, 8, 5, 4],\n",
       " [6, 6, 6, 4],\n",
       " [5, 5, 7, 2],\n",
       " [7, 7, 1, 4],\n",
       " [9, 3, 4, 8],\n",
       " [8, 7, 2, 7]]"
      ]
     },
     "execution_count": 4,
     "metadata": {},
     "output_type": "execute_result"
    }
   ],
   "source": [
    "PROC"
   ]
  },
  {
   "cell_type": "code",
   "execution_count": 5,
   "id": "ce3fc312",
   "metadata": {},
   "outputs": [],
   "source": [
    "import pulp"
   ]
  },
  {
   "cell_type": "code",
   "execution_count": 6,
   "id": "e1df2b43",
   "metadata": {},
   "outputs": [],
   "source": [
    "def val(x):\n",
    "    return int(pulp.value(x))"
   ]
  },
  {
   "cell_type": "code",
   "execution_count": 7,
   "id": "9b2a30e6",
   "metadata": {},
   "outputs": [],
   "source": [
    "prob = pulp.LpProblem(\"JobScheduling\",pulp.LpMinimize)"
   ]
  },
  {
   "cell_type": "code",
   "execution_count": 8,
   "id": "24952d60",
   "metadata": {},
   "outputs": [],
   "source": [
    "JJ = pulp.LpVariable.dicts(\"J\", (range(N_JOBS), range(N_JOBS)),\n",
    "                           lowBound=0, upBound=1, cat='Integer')"
   ]
  },
  {
   "cell_type": "code",
   "execution_count": 9,
   "id": "a62dfdb8",
   "metadata": {},
   "outputs": [],
   "source": [
    "def job(n):\n",
    "    for j in range(N_JOBS):\n",
    "        if val(JJ[n][j])==1:\n",
    "            return j"
   ]
  },
  {
   "cell_type": "code",
   "execution_count": 10,
   "id": "fba17292",
   "metadata": {},
   "outputs": [],
   "source": [
    "def jobSequence():\n",
    "    acc = []\n",
    "    for j in range(N_JOBS):\n",
    "        for jj in range(N_JOBS):\n",
    "            if pulp.value(JJ[j][jj])==1:\n",
    "                acc.append(jj)\n",
    "    return acc"
   ]
  },
  {
   "cell_type": "code",
   "execution_count": 11,
   "id": "f30b6300",
   "metadata": {},
   "outputs": [],
   "source": [
    "def proc(job, machine):\n",
    "    global PROC\n",
    "    return pulp.lpSum( [ PROC[j][machine] * JJ[j][job] for j in range(N_JOBS) ] ) "
   ]
  },
  {
   "cell_type": "code",
   "execution_count": 12,
   "id": "478f6ee5",
   "metadata": {},
   "outputs": [],
   "source": [
    "Wait = pulp.LpVariable.dicts(\"WAIT\", (range(N_JOBS), range(N_MACHINES)),\n",
    "                          lowBound=0, cat='Integer')"
   ]
  },
  {
   "cell_type": "code",
   "execution_count": 13,
   "id": "d49302f1",
   "metadata": {},
   "outputs": [
    {
     "name": "stdout",
     "output_type": "stream",
     "text": [
      "{0: {0: WAIT_0_0, 1: WAIT_0_1, 2: WAIT_0_2, 3: WAIT_0_3}, 1: {0: WAIT_1_0, 1: WAIT_1_1, 2: WAIT_1_2, 3: WAIT_1_3}, 2: {0: WAIT_2_0, 1: WAIT_2_1, 2: WAIT_2_2, 3: WAIT_2_3}, 3: {0: WAIT_3_0, 1: WAIT_3_1, 2: WAIT_3_2, 3: WAIT_3_3}, 4: {0: WAIT_4_0, 1: WAIT_4_1, 2: WAIT_4_2, 3: WAIT_4_3}, 5: {0: WAIT_5_0, 1: WAIT_5_1, 2: WAIT_5_2, 3: WAIT_5_3}}\n"
     ]
    }
   ],
   "source": [
    "print(Wait)"
   ]
  },
  {
   "cell_type": "code",
   "execution_count": 14,
   "id": "40c25073",
   "metadata": {},
   "outputs": [],
   "source": [
    "Idle = pulp.LpVariable.dicts(\"IDLE\", (range(N_JOBS), range(N_MACHINES)),\n",
    "                             lowBound=0, cat='Integer')"
   ]
  },
  {
   "cell_type": "code",
   "execution_count": 15,
   "id": "6718b442",
   "metadata": {},
   "outputs": [],
   "source": [
    "Start = pulp.LpVariable.dicts(\"START\", (range(N_JOBS), range(N_MACHINES)),\n",
    "                          lowBound=0, cat='Integer')"
   ]
  },
  {
   "cell_type": "code",
   "execution_count": 16,
   "id": "a1166d78",
   "metadata": {},
   "outputs": [],
   "source": [
    "Stop = pulp.LpVariable.dicts(\"STOP\", (range(N_JOBS), range(N_MACHINES)),\n",
    "                          lowBound=0, cat='Integer')"
   ]
  },
  {
   "cell_type": "code",
   "execution_count": 17,
   "id": "64d52e5f",
   "metadata": {},
   "outputs": [],
   "source": [
    "prob += Stop[N_JOBS-1][N_MACHINES-1]"
   ]
  },
  {
   "cell_type": "code",
   "execution_count": 18,
   "id": "2087c698",
   "metadata": {},
   "outputs": [],
   "source": [
    "for j in range(N_JOBS):\n",
    "    prob += pulp.lpSum( [ JJ[j][jj] for jj in range(N_JOBS) ] ) == 1\n",
    "    prob += pulp.lpSum( [ JJ[jj][j] for jj in range(N_JOBS) ] ) == 1"
   ]
  },
  {
   "cell_type": "code",
   "execution_count": 19,
   "id": "1513fe66",
   "metadata": {},
   "outputs": [],
   "source": [
    "for m in range(N_MACHINES):\n",
    "    for j in range(N_JOBS):\n",
    "        prob += pulp.lpSum( [ Idle[ji][m] + proc(ji, m) for ji in range(j) ] ) + Idle[j][m] == Start[j][m]"
   ]
  },
  {
   "cell_type": "code",
   "execution_count": 20,
   "id": "4ebcfb72",
   "metadata": {},
   "outputs": [],
   "source": [
    "for m in range(N_MACHINES):\n",
    "    for j in range(N_JOBS):\n",
    "        prob += pulp.lpSum( [ Wait[j][mi] + proc(j, mi) for mi in range(m) ] ) + Wait[j][m] == Start[j][m]"
   ]
  },
  {
   "cell_type": "code",
   "execution_count": 21,
   "id": "ab976ead",
   "metadata": {},
   "outputs": [],
   "source": [
    "for j in range(N_JOBS):\n",
    "    for m in range(N_MACHINES):\n",
    "        prob += Start[j][m] + proc(j,m) == Stop[j][m]"
   ]
  },
  {
   "cell_type": "code",
   "execution_count": 22,
   "id": "db084246",
   "metadata": {},
   "outputs": [
    {
     "data": {
      "text/plain": [
       "1"
      ]
     },
     "execution_count": 22,
     "metadata": {},
     "output_type": "execute_result"
    }
   ],
   "source": [
    "solvers = pulp.listSolvers(onlyAvailable=True) \n",
    "solver = pulp.getSolver(solvers[0], msg=0)\n",
    "prob.solve(solver)"
   ]
  },
  {
   "cell_type": "code",
   "execution_count": 23,
   "id": "9d8743c9",
   "metadata": {},
   "outputs": [],
   "source": [
    "def schedule():\n",
    "    row = \"\"\n",
    "    row += '|---------|'\n",
    "    for m in range(N_MACHINES):\n",
    "        row += f\"------------|\" \\\n",
    "                f\"------------|\"\n",
    "    row += '\\n'\n",
    "    row += '|         |'\n",
    "    for m in range(N_MACHINES):\n",
    "        row += f\"            |\" \\\n",
    "                f\" Machine: {m:1d} |\"\n",
    "    row += '\\n'\n",
    "    for j in range(N_JOBS):\n",
    "        row += '|---------|'\n",
    "        for m in range(N_MACHINES):\n",
    "            row += f\"------------|\" \\\n",
    "                   f\"------------|\"\n",
    "        row += '\\n'\n",
    "        row += '|         |'\n",
    "        for m in range(N_MACHINES):\n",
    "            row += f\"       {' ':4s} | \" \\\n",
    "                   f\"Idle: {val(Idle[j][m]):4d} |\"\n",
    "        row += '\\n'\n",
    "        row += '|---------|'\n",
    "        for m in range(N_MACHINES):\n",
    "            row += f\"------------|\" \\\n",
    "                   f\"------------|\"\n",
    "        row += '\\n'\n",
    "        row += '|         |'\n",
    "        for m in range(N_MACHINES):\n",
    "            row += f\"       {' ':4s} | \" \\\n",
    "                   f\"Start:{val(Start[j][m]):4d} |\"  \n",
    "        row += '\\n' \n",
    "        row += f'| Job: {job(j):2d} |'\n",
    "        for m in range(N_MACHINES):\n",
    "            row += f\" Wait: {val(Wait[j][m]):4d} | \" \\\n",
    "                   f\"Proc: {val(proc(j,m)):4d} |\"\n",
    "        row += '\\n'\n",
    "        row += '|         |'\n",
    "        for m in range(N_MACHINES):\n",
    "            row += f\"       {' ':4s} | \" \\\n",
    "                   f\"Stop: {val(Stop[j][m]):4d} |\"  \n",
    "        row += '\\n' \n",
    "    row += '|---------|'\n",
    "    for m in range(N_MACHINES):\n",
    "        row += f\"------------|\" \\\n",
    "                f\"------------|\"\n",
    "    row += '\\n'\n",
    "    return row"
   ]
  },
  {
   "cell_type": "code",
   "execution_count": 24,
   "id": "9f6231b1",
   "metadata": {},
   "outputs": [
    {
     "data": {
      "text/plain": [
       "[[5, 8, 5, 4],\n",
       " [6, 6, 6, 4],\n",
       " [5, 5, 7, 2],\n",
       " [7, 7, 1, 4],\n",
       " [9, 3, 4, 8],\n",
       " [8, 7, 2, 7]]"
      ]
     },
     "execution_count": 24,
     "metadata": {},
     "output_type": "execute_result"
    }
   ],
   "source": [
    "PROC"
   ]
  },
  {
   "cell_type": "code",
   "execution_count": 25,
   "id": "89d1b665",
   "metadata": {},
   "outputs": [
    {
     "name": "stdout",
     "output_type": "stream",
     "text": [
      "[0, 1, 4, 5, 3, 2]\n"
     ]
    }
   ],
   "source": [
    "print(jobSequence())"
   ]
  },
  {
   "cell_type": "code",
   "execution_count": 26,
   "id": "175e4db4",
   "metadata": {},
   "outputs": [
    {
     "data": {
      "text/plain": [
       "52"
      ]
     },
     "execution_count": 26,
     "metadata": {},
     "output_type": "execute_result"
    }
   ],
   "source": [
    "int(pulp.value(prob.objective))"
   ]
  },
  {
   "cell_type": "code",
   "execution_count": 27,
   "id": "f9ee1304",
   "metadata": {},
   "outputs": [
    {
     "name": "stdout",
     "output_type": "stream",
     "text": [
      "|---------|------------|------------|------------|------------|------------|------------|------------|------------|\n",
      "|         |            | Machine: 0 |            | Machine: 1 |            | Machine: 2 |            | Machine: 3 |\n",
      "|---------|------------|------------|------------|------------|------------|------------|------------|------------|\n",
      "|         |            | Idle:    0 |            | Idle:    7 |            | Idle:   16 |            | Idle:   21 |\n",
      "|---------|------------|------------|------------|------------|------------|------------|------------|------------|\n",
      "|         |            | Start:   0 |            | Start:   7 |            | Start:  16 |            | Start:  21 |\n",
      "| Job:  0 | Wait:    0 | Proc:    5 | Wait:    2 | Proc:    8 | Wait:    1 | Proc:    5 | Wait:    0 | Proc:    4 |\n",
      "|         |            | Stop:    5 |            | Stop:   15 |            | Stop:   21 |            | Stop:   25 |\n",
      "|---------|------------|------------|------------|------------|------------|------------|------------|------------|\n",
      "|         |            | Idle:    0 |            | Idle:    0 |            | Idle:    0 |            | Idle:    2 |\n",
      "|---------|------------|------------|------------|------------|------------|------------|------------|------------|\n",
      "|         |            | Start:   5 |            | Start:  15 |            | Start:  21 |            | Start:  27 |\n",
      "| Job:  1 | Wait:    5 | Proc:    6 | Wait:    4 | Proc:    6 | Wait:    0 | Proc:    6 | Wait:    0 | Proc:    4 |\n",
      "|         |            | Stop:   11 |            | Stop:   21 |            | Stop:   27 |            | Stop:   31 |\n",
      "|---------|------------|------------|------------|------------|------------|------------|------------|------------|\n",
      "|         |            | Idle:    0 |            | Idle:    0 |            | Idle:    2 |            | Idle:    0 |\n",
      "|---------|------------|------------|------------|------------|------------|------------|------------|------------|\n",
      "|         |            | Start:  11 |            | Start:  21 |            | Start:  29 |            | Start:  31 |\n",
      "| Job:  4 | Wait:   11 | Proc:    8 | Wait:    2 | Proc:    7 | Wait:    1 | Proc:    2 | Wait:    0 | Proc:    7 |\n",
      "|         |            | Stop:   19 |            | Stop:   28 |            | Stop:   31 |            | Stop:   38 |\n",
      "|---------|------------|------------|------------|------------|------------|------------|------------|------------|\n",
      "|         |            | Idle:    0 |            | Idle:    0 |            | Idle:    0 |            | Idle:    0 |\n",
      "|---------|------------|------------|------------|------------|------------|------------|------------|------------|\n",
      "|         |            | Start:  19 |            | Start:  28 |            | Start:  31 |            | Start:  38 |\n",
      "| Job:  5 | Wait:   19 | Proc:    9 | Wait:    0 | Proc:    3 | Wait:    0 | Proc:    4 | Wait:    3 | Proc:    8 |\n",
      "|         |            | Stop:   28 |            | Stop:   31 |            | Stop:   35 |            | Stop:   46 |\n",
      "|---------|------------|------------|------------|------------|------------|------------|------------|------------|\n",
      "|         |            | Idle:    0 |            | Idle:    3 |            | Idle:    4 |            | Idle:    0 |\n",
      "|---------|------------|------------|------------|------------|------------|------------|------------|------------|\n",
      "|         |            | Start:  28 |            | Start:  34 |            | Start:  39 |            | Start:  46 |\n",
      "| Job:  3 | Wait:   28 | Proc:    5 | Wait:    1 | Proc:    5 | Wait:    0 | Proc:    7 | Wait:    0 | Proc:    2 |\n",
      "|         |            | Stop:   33 |            | Stop:   39 |            | Stop:   46 |            | Stop:   48 |\n",
      "|---------|------------|------------|------------|------------|------------|------------|------------|------------|\n",
      "|         |            | Idle:    0 |            | Idle:    1 |            | Idle:    1 |            | Idle:    0 |\n",
      "|---------|------------|------------|------------|------------|------------|------------|------------|------------|\n",
      "|         |            | Start:  33 |            | Start:  40 |            | Start:  47 |            | Start:  48 |\n",
      "| Job:  2 | Wait:   33 | Proc:    7 | Wait:    0 | Proc:    7 | Wait:    0 | Proc:    1 | Wait:    0 | Proc:    4 |\n",
      "|         |            | Stop:   40 |            | Stop:   47 |            | Stop:   48 |            | Stop:   52 |\n",
      "|---------|------------|------------|------------|------------|------------|------------|------------|------------|\n",
      "\n"
     ]
    }
   ],
   "source": [
    "print(schedule())"
   ]
  },
  {
   "cell_type": "code",
   "execution_count": 28,
   "id": "8ace5ebe",
   "metadata": {},
   "outputs": [],
   "source": [
    "import random\n",
    "\n",
    "def generateData(seed=0):\n",
    "    PROC = [ [ 0 for m in range(N_MACHINES) ] for j in range(N_JOBS) ]\n",
    "    random.seed(seed)\n",
    "    for j in range(N_JOBS):\n",
    "        for m in range(N_MACHINES):\n",
    "            PROC[j][m] = random.randint(1,9)\n",
    "    return PROC"
   ]
  },
  {
   "cell_type": "code",
   "execution_count": 29,
   "id": "69296b16",
   "metadata": {},
   "outputs": [],
   "source": [
    "PROC = generateData(7406)"
   ]
  },
  {
   "cell_type": "code",
   "execution_count": 30,
   "id": "0a6e0cdb",
   "metadata": {},
   "outputs": [
    {
     "data": {
      "text/plain": [
       "[[5, 8, 5, 4],\n",
       " [6, 6, 6, 4],\n",
       " [5, 5, 7, 2],\n",
       " [7, 7, 1, 4],\n",
       " [9, 3, 4, 8],\n",
       " [8, 7, 2, 7]]"
      ]
     },
     "execution_count": 30,
     "metadata": {},
     "output_type": "execute_result"
    }
   ],
   "source": [
    "PROC"
   ]
  },
  {
   "cell_type": "markdown",
   "id": "71df1c5d",
   "metadata": {},
   "source": [
    "## Greedy Algorithm"
   ]
  },
  {
   "cell_type": "code",
   "execution_count": 31,
   "id": "dca4804d",
   "metadata": {},
   "outputs": [],
   "source": [
    "import random\n",
    "\n",
    "\n",
    "def val(x):\n",
    "    return int(x)\n",
    "\n",
    "def greedy_algorithm(PROC):\n",
    "    N_JOBS = len(PROC)\n",
    "    N_MACHINES = len(PROC[0])\n",
    "    \n",
    "    # Initialize scheduling variables\n",
    "    Idle = [[0 for _ in range(N_MACHINES)] for _ in range(N_JOBS)]\n",
    "    Start = [[0 for _ in range(N_MACHINES)] for _ in range(N_JOBS)]\n",
    "    Stop = [[0 for _ in range(N_MACHINES)] for _ in range(N_JOBS)]\n",
    "    \n",
    "    # Initialize machine availability times\n",
    "    machine_times = [0] * N_MACHINES\n",
    "    \n",
    "    # Schedule each job\n",
    "    for j in range(N_JOBS):\n",
    "        for m in range(N_MACHINES):\n",
    "            if m == 0:\n",
    "                Start[j][m] = machine_times[m]\n",
    "            else:\n",
    "                Start[j][m] = max(machine_times[m], Stop[j][m-1])\n",
    "            \n",
    "            Idle[j][m] = Start[j][m] - (machine_times[m] if m == 0 else Stop[j][m-1])\n",
    "            Stop[j][m] = Start[j][m] + PROC[j][m]\n",
    "            machine_times[m] = Stop[j][m]\n",
    "    \n",
    "    return Idle, Start, Stop, PROC"
   ]
  },
  {
   "cell_type": "code",
   "execution_count": 32,
   "id": "7be2b0fc",
   "metadata": {
    "scrolled": false
   },
   "outputs": [
    {
     "name": "stdout",
     "output_type": "stream",
     "text": [
      "Greedy Algorithm Result:\n",
      "Job Sequence and Detailed Schedule:\n",
      "|---------|------------|------------|------------|------------|------------|------------|------------|------------|\n",
      "|         |            | Machine: 0 |            | Machine: 1 |            | Machine: 2 |            | Machine: 3 |\n",
      "|---------|------------|------------|------------|------------|------------|------------|------------|------------|\n",
      "|         |            | Idle:    0 |            | Idle:    0 |            | Idle:    0 |            | Idle:    0 |\n",
      "|---------|------------|------------|------------|------------|------------|------------|------------|------------|\n",
      "|         |            | Start:   0 |            | Start:   5 |            | Start:  13 |            | Start:  18 |\n",
      "| Job:  0 | Wait:    0 | Proc:    5 | Wait:    0 | Proc:    8 | Wait:    0 | Proc:    5 | Wait:    0 | Proc:    4 |\n",
      "|         |            | Stop:    5 |            | Stop:   13 |            | Stop:   18 |            | Stop:   22 |\n",
      "|---------|------------|------------|------------|------------|------------|------------|------------|------------|\n",
      "|         |            | Idle:    0 |            | Idle:    2 |            | Idle:    0 |            | Idle:    0 |\n",
      "|---------|------------|------------|------------|------------|------------|------------|------------|------------|\n",
      "|         |            | Start:   5 |            | Start:  13 |            | Start:  19 |            | Start:  25 |\n",
      "| Job:  1 | Wait:    0 | Proc:    6 | Wait:    2 | Proc:    6 | Wait:    0 | Proc:    6 | Wait:    0 | Proc:    4 |\n",
      "|         |            | Stop:   11 |            | Stop:   19 |            | Stop:   25 |            | Stop:   29 |\n",
      "|---------|------------|------------|------------|------------|------------|------------|------------|------------|\n",
      "|         |            | Idle:    0 |            | Idle:    3 |            | Idle:    1 |            | Idle:    0 |\n",
      "|---------|------------|------------|------------|------------|------------|------------|------------|------------|\n",
      "|         |            | Start:  11 |            | Start:  19 |            | Start:  25 |            | Start:  32 |\n",
      "| Job:  2 | Wait:    0 | Proc:    5 | Wait:    3 | Proc:    5 | Wait:    1 | Proc:    7 | Wait:    0 | Proc:    2 |\n",
      "|         |            | Stop:   16 |            | Stop:   24 |            | Stop:   32 |            | Stop:   34 |\n",
      "|---------|------------|------------|------------|------------|------------|------------|------------|------------|\n",
      "|         |            | Idle:    0 |            | Idle:    1 |            | Idle:    1 |            | Idle:    1 |\n",
      "|---------|------------|------------|------------|------------|------------|------------|------------|------------|\n",
      "|         |            | Start:  16 |            | Start:  24 |            | Start:  32 |            | Start:  34 |\n",
      "| Job:  3 | Wait:    0 | Proc:    7 | Wait:    1 | Proc:    7 | Wait:    1 | Proc:    1 | Wait:    1 | Proc:    4 |\n",
      "|         |            | Stop:   23 |            | Stop:   31 |            | Stop:   33 |            | Stop:   38 |\n",
      "|---------|------------|------------|------------|------------|------------|------------|------------|------------|\n",
      "|         |            | Idle:    0 |            | Idle:    0 |            | Idle:    0 |            | Idle:    0 |\n",
      "|---------|------------|------------|------------|------------|------------|------------|------------|------------|\n",
      "|         |            | Start:  23 |            | Start:  32 |            | Start:  35 |            | Start:  39 |\n",
      "| Job:  4 | Wait:    0 | Proc:    9 | Wait:    0 | Proc:    3 | Wait:    0 | Proc:    4 | Wait:    0 | Proc:    8 |\n",
      "|         |            | Stop:   32 |            | Stop:   35 |            | Stop:   39 |            | Stop:   47 |\n",
      "|---------|------------|------------|------------|------------|------------|------------|------------|------------|\n",
      "|         |            | Idle:    0 |            | Idle:    0 |            | Idle:    0 |            | Idle:    0 |\n",
      "|---------|------------|------------|------------|------------|------------|------------|------------|------------|\n",
      "|         |            | Start:  32 |            | Start:  40 |            | Start:  47 |            | Start:  49 |\n",
      "| Job:  5 | Wait:    0 | Proc:    8 | Wait:    0 | Proc:    7 | Wait:    0 | Proc:    2 | Wait:    0 | Proc:    7 |\n",
      "|         |            | Stop:   40 |            | Stop:   47 |            | Stop:   49 |            | Stop:   56 |\n",
      "|---------|------------|------------|------------|------------|------------|------------|------------|------------|\n",
      "\n"
     ]
    }
   ],
   "source": [
    "def schedule(N_JOBS, N_MACHINES, Idle, Start, Stop, PROC):\n",
    "    row = \"\"\n",
    "    row += '|---------|'\n",
    "    for m in range(N_MACHINES):\n",
    "        row += f\"------------|\" \\\n",
    "                f\"------------|\"\n",
    "    row += '\\n'\n",
    "    row += '|         |'\n",
    "    for m in range(N_MACHINES):\n",
    "        row += f\"            |\" \\\n",
    "                f\" Machine: {m:1d} |\"\n",
    "    row += '\\n'\n",
    "    for j in range(N_JOBS):\n",
    "        row += '|---------|'\n",
    "        for m in range(N_MACHINES):\n",
    "            row += f\"------------|\" \\\n",
    "                   f\"------------|\"\n",
    "        row += '\\n'\n",
    "        row += '|         |'\n",
    "        for m in range(N_MACHINES):\n",
    "            row += f\"       {' ':4s} | \" \\\n",
    "                   f\"Idle: {val(Idle[j][m]):4d} |\"\n",
    "        row += '\\n'\n",
    "        row += '|---------|'\n",
    "        for m in range(N_MACHINES):\n",
    "            row += f\"------------|\" \\\n",
    "                   f\"------------|\"\n",
    "        row += '\\n'\n",
    "        row += '|         |'\n",
    "        for m in range(N_MACHINES):\n",
    "            row += f\"       {' ':4s} | \" \\\n",
    "                   f\"Start:{val(Start[j][m]):4d} |\"  \n",
    "        row += '\\n' \n",
    "        row += f'| Job: {j:2d} |'\n",
    "        for m in range(N_MACHINES):\n",
    "            row += f\" Wait: {val(Idle[j][m]):4d} | \" \\\n",
    "                   f\"Proc: {PROC[j][m]:4d} |\"\n",
    "        row += '\\n'\n",
    "        row += '|         |'\n",
    "        for m in range(N_MACHINES):\n",
    "            row += f\"       {' ':4s} | \" \\\n",
    "                   f\"Stop: {val(Stop[j][m]):4d} |\"  \n",
    "        row += '\\n' \n",
    "    row += '|---------|'\n",
    "    for m in range(N_MACHINES):\n",
    "        row += f\"------------|\" \\\n",
    "                f\"------------|\"\n",
    "    row += '\\n'\n",
    "    return row\n",
    "\n",
    "Idle, Start, Stop, PROC = greedy_algorithm(PROC)\n",
    "print(\"Greedy Algorithm Result:\")\n",
    "print(\"Job Sequence and Detailed Schedule:\")\n",
    "print(schedule(N_JOBS, N_MACHINES, Idle, Start, Stop, PROC))"
   ]
  },
  {
   "cell_type": "code",
   "execution_count": 33,
   "id": "7527ab31",
   "metadata": {},
   "outputs": [
    {
     "name": "stdout",
     "output_type": "stream",
     "text": [
      "Overall Processing Time: 56\n"
     ]
    }
   ],
   "source": [
    "stop_times = [\n",
    "    [5, 13, 18, 22],\n",
    "    [11, 19, 25, 29],\n",
    "    [16, 24, 32, 34],\n",
    "    [23, 31, 33, 38],\n",
    "    [32, 35, 39, 47],\n",
    "    [40, 47, 49, 56]\n",
    "]\n",
    "\n",
    "def calculate_overall_processing_time(stop_times):\n",
    "    overall_processing_time = max(max(times) for times in stop_times)\n",
    "    return overall_processing_time\n",
    "\n",
    "overall_processing_time = calculate_overall_processing_time(stop_times)\n",
    "\n",
    "print(\"Overall Processing Time:\", overall_processing_time)\n"
   ]
  },
  {
   "cell_type": "markdown",
   "id": "3b1bf8f7",
   "metadata": {},
   "source": [
    "## Stochastic Opimisation algorithm (Simulated Annealing algorithm)"
   ]
  },
  {
   "cell_type": "code",
   "execution_count": 34,
   "id": "ad358262",
   "metadata": {},
   "outputs": [
    {
     "name": "stdout",
     "output_type": "stream",
     "text": [
      "Best solution: [3, 1, 2, 4, 0, 5]\n",
      "Best cost (makespan): 56\n"
     ]
    }
   ],
   "source": [
    "import random\n",
    "import math\n",
    "\n",
    "def calculate_makespan(job_order, PROC, N_MACHINES):\n",
    "    # Initialize completion times for machines\n",
    "    machine_times = [0] * N_MACHINES\n",
    "    \n",
    "    for job in job_order:\n",
    "        # Start the first job at the completion time of the previous job on the first machine\n",
    "        current_start_time = machine_times[0]\n",
    "        for machine in range(N_MACHINES):\n",
    "            if machine == 0:\n",
    "                # Job starts after the previous job finished on this machine\n",
    "                machine_times[machine] += PROC[job][machine]\n",
    "            else:\n",
    "                # Job starts after both the previous job on this machine and this job on the previous machine\n",
    "                machine_times[machine] = max(machine_times[machine], machine_times[machine - 1]) + PROC[job][machine]\n",
    "    return machine_times[-1]\n",
    "\n",
    "def initial_solution(N_JOBS):\n",
    "    return list(range(N_JOBS))\n",
    "\n",
    "def get_neighbor(solution):\n",
    "    # Swap two random elements\n",
    "    a, b = random.sample(range(len(solution)), 2)\n",
    "    solution[a], solution[b] = solution[b], solution[a]\n",
    "    return solution\n",
    "\n",
    "def simulated_annealing(PROC, N_JOBS, N_MACHINES, temp=1000, cooling_rate=0.99, stopping_temp=1):\n",
    "    current_solution = initial_solution(N_JOBS)\n",
    "    current_cost = calculate_makespan(current_solution, PROC, N_MACHINES)\n",
    "    while temp > stopping_temp:\n",
    "        new_solution = get_neighbor(current_solution[:])\n",
    "        new_cost = calculate_makespan(new_solution, PROC, N_MACHINES)\n",
    "        if new_cost < current_cost or random.uniform(0, 1) < math.exp((current_cost - new_cost) / temp):\n",
    "            current_solution, current_cost = new_solution, new_cost\n",
    "        temp *= cooling_rate\n",
    "    return current_solution, current_cost\n",
    "\n",
    "# Set a seed for reproducibility\n",
    "random.seed(3546)\n",
    "best_solution, best_cost = simulated_annealing(PROC, N_JOBS, N_MACHINES)\n",
    "print(\"Best solution:\", best_solution)\n",
    "print(\"Best cost (makespan):\", best_cost)\n"
   ]
  },
  {
   "cell_type": "code",
   "execution_count": 35,
   "id": "ba88b30a",
   "metadata": {},
   "outputs": [
    {
     "name": "stdout",
     "output_type": "stream",
     "text": [
      "Simulated Annealing Result:\n",
      "Job Sequence and Detailed Schedule:\n",
      "|---------|------------|------------|------------|------------|------------|------------|------------|------------|\n",
      "|         |            | Machine: 0 |            | Machine: 1 |            | Machine: 2 |            | Machine: 3 |\n",
      "|---------|------------|------------|------------|------------|------------|------------|------------|------------|\n",
      "|         |            | Idle:    0 |            | Idle:    2 |            | Idle:    6 |            | Idle:    3 |\n",
      "|---------|------------|------------|------------|------------|------------|------------|------------|------------|\n",
      "|         |            | Start:   9 |            | Start:  14 |            | Start:  22 |            | Start:  27 |\n",
      "| Job:  0 | Wait:    0 | Proc:    5 | Wait:    2 | Proc:    8 | Wait:    6 | Proc:    5 | Wait:    3 | Proc:    4 |\n",
      "|         |            | Stop:   14 |            | Stop:   22 |            | Stop:   27 |            | Stop:   31 |\n",
      "|---------|------------|------------|------------|------------|------------|------------|------------|------------|\n",
      "|         |            | Idle:    0 |            | Idle:    0 |            | Idle:    1 |            | Idle:    3 |\n",
      "|---------|------------|------------|------------|------------|------------|------------|------------|------------|\n",
      "|         |            | Start:  14 |            | Start:  22 |            | Start:  28 |            | Start:  34 |\n",
      "| Job:  1 | Wait:    0 | Proc:    6 | Wait:    0 | Proc:    6 | Wait:    1 | Proc:    6 | Wait:    3 | Proc:    4 |\n",
      "|         |            | Stop:   20 |            | Stop:   28 |            | Stop:   34 |            | Stop:   38 |\n",
      "|---------|------------|------------|------------|------------|------------|------------|------------|------------|\n",
      "|         |            | Idle:    0 |            | Idle:    0 |            | Idle:    3 |            | Idle:    2 |\n",
      "|---------|------------|------------|------------|------------|------------|------------|------------|------------|\n",
      "|         |            | Start:  28 |            | Start:  35 |            | Start:  40 |            | Start:  47 |\n",
      "| Job:  2 | Wait:    0 | Proc:    5 | Wait:    0 | Proc:    5 | Wait:    3 | Proc:    7 | Wait:    2 | Proc:    2 |\n",
      "|         |            | Stop:   33 |            | Stop:   40 |            | Stop:   47 |            | Stop:   49 |\n",
      "|---------|------------|------------|------------|------------|------------|------------|------------|------------|\n",
      "|         |            | Idle:    0 |            | Idle:    0 |            | Idle:    0 |            | Idle:    0 |\n",
      "|---------|------------|------------|------------|------------|------------|------------|------------|------------|\n",
      "|         |            | Start:  33 |            | Start:  40 |            | Start:  47 |            | Start:  49 |\n",
      "| Job:  3 | Wait:    0 | Proc:    7 | Wait:    0 | Proc:    7 | Wait:    0 | Proc:    1 | Wait:    0 | Proc:    4 |\n",
      "|         |            | Stop:   40 |            | Stop:   47 |            | Stop:   48 |            | Stop:   53 |\n",
      "|---------|------------|------------|------------|------------|------------|------------|------------|------------|\n",
      "|         |            | Idle:    0 |            | Idle:    9 |            | Idle:   12 |            | Idle:   16 |\n",
      "|---------|------------|------------|------------|------------|------------|------------|------------|------------|\n",
      "|         |            | Start:   0 |            | Start:   9 |            | Start:  12 |            | Start:  16 |\n",
      "| Job:  4 | Wait:    0 | Proc:    9 | Wait:    9 | Proc:    3 | Wait:   12 | Proc:    4 | Wait:   16 | Proc:    8 |\n",
      "|         |            | Stop:    9 |            | Stop:   12 |            | Stop:   16 |            | Stop:   24 |\n",
      "|---------|------------|------------|------------|------------|------------|------------|------------|------------|\n",
      "|         |            | Idle:    0 |            | Idle:    0 |            | Idle:    1 |            | Idle:    0 |\n",
      "|---------|------------|------------|------------|------------|------------|------------|------------|------------|\n",
      "|         |            | Start:  20 |            | Start:  28 |            | Start:  35 |            | Start:  38 |\n",
      "| Job:  5 | Wait:    0 | Proc:    8 | Wait:    0 | Proc:    7 | Wait:    1 | Proc:    2 | Wait:    0 | Proc:    7 |\n",
      "|         |            | Stop:   28 |            | Stop:   35 |            | Stop:   37 |            | Stop:   45 |\n",
      "|---------|------------|------------|------------|------------|------------|------------|------------|------------|\n",
      "\n"
     ]
    }
   ],
   "source": [
    "def calculate_schedule(job_order, PROC, N_JOBS, N_MACHINES):\n",
    "    # Arrays to store Idle times, Start times, and Stop times for each job on each machine\n",
    "    Idle = [[0] * N_MACHINES for _ in range(N_JOBS)]\n",
    "    Start = [[0] * N_MACHINES for _ in range(N_JOBS)]\n",
    "    Stop = [[0] * N_MACHINES for _ in range(N_JOBS)]\n",
    "\n",
    "    #Track the end times of the last job on each machine\n",
    "    machine_end_times = [0] * N_MACHINES\n",
    "\n",
    "    #Process each job as per the job_order\n",
    "    for job in job_order:\n",
    "        for m in range(N_MACHINES):\n",
    "            if m == 0:\n",
    "                # First machine: Job starts as soon as the previous job finished\n",
    "                Start[job][m] = machine_end_times[m]\n",
    "            else:\n",
    "                # Subsequent machines: Job starts after both the previous machine has started this job and the same machine has finished the previous job\n",
    "                Start[job][m] = max(Stop[job][m-1], machine_end_times[m])\n",
    "\n",
    "            # Processing time added to the start time to determine when it stops\n",
    "            Stop[job][m] = Start[job][m] + PROC[job][m]\n",
    "\n",
    "            # Calculate Idle time\n",
    "            if m == 0:\n",
    "                Idle[job][m] = 0  # First machine has no idle time for the first job\n",
    "            else:\n",
    "                Idle[job][m] = Start[job][m] - machine_end_times[m]\n",
    "\n",
    "            # Update the end time for this machine\n",
    "            machine_end_times[m] = Stop[job][m]\n",
    "\n",
    "    return Idle, Start, Stop\n",
    "\n",
    "best_solution, best_cost = simulated_annealing(PROC, N_JOBS, N_MACHINES)\n",
    "\n",
    "Idle, Start, Stop = calculate_schedule(best_solution, PROC, N_JOBS, N_MACHINES)\n",
    "\n",
    "print(\"Simulated Annealing Result:\")\n",
    "print(\"Job Sequence and Detailed Schedule:\")\n",
    "print(schedule(N_JOBS, N_MACHINES, Idle, Start, Stop, PROC))\n"
   ]
  },
  {
   "cell_type": "code",
   "execution_count": 36,
   "id": "afe5eb29",
   "metadata": {},
   "outputs": [
    {
     "name": "stdout",
     "output_type": "stream",
     "text": [
      "Overall Processing Time: 53\n"
     ]
    }
   ],
   "source": [
    "def calculate_overall_processing_time(Stop):\n",
    "    max_stop_time = 0\n",
    "    for job_stops in Stop:\n",
    "        job_max = max(job_stops)\n",
    "        if job_max > max_stop_time:\n",
    "            max_stop_time = job_max\n",
    "    return max_stop_time\n",
    "\n",
    "Stop = [\n",
    "    [14, 22, 27, 31],\n",
    "    [20, 28, 34, 38],\n",
    "    [33, 40, 47, 49],\n",
    "    [40, 47, 48, 53],\n",
    "    [9, 12, 16, 24],\n",
    "    [28, 35, 37, 45]\n",
    "]\n",
    "\n",
    "overall_processing_time = calculate_overall_processing_time(Stop)\n",
    "print(\"Overall Processing Time:\", overall_processing_time)\n"
   ]
  }
 ],
 "metadata": {
  "kernelspec": {
   "display_name": "Python 3 (ipykernel)",
   "language": "python",
   "name": "python3"
  },
  "language_info": {
   "codemirror_mode": {
    "name": "ipython",
    "version": 3
   },
   "file_extension": ".py",
   "mimetype": "text/x-python",
   "name": "python",
   "nbconvert_exporter": "python",
   "pygments_lexer": "ipython3",
   "version": "3.11.3"
  }
 },
 "nbformat": 4,
 "nbformat_minor": 5
}
